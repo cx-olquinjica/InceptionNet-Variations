{
 "cells": [
  {
   "cell_type": "markdown",
   "id": "75980362",
   "metadata": {},
   "source": [
    "# Inception Variations"
   ]
  },
  {
   "cell_type": "markdown",
   "id": "f8b43938",
   "metadata": {},
   "source": [
    "This notebook will be used to showcase the changes observed in the training and test dataset as we add new techniques to the model"
   ]
  }
 ],
 "metadata": {
  "kernelspec": {
   "display_name": "Python 3 (ipykernel)",
   "language": "python",
   "name": "python3"
  },
  "language_info": {
   "codemirror_mode": {
    "name": "ipython",
    "version": 3
   },
   "file_extension": ".py",
   "mimetype": "text/x-python",
   "name": "python",
   "nbconvert_exporter": "python",
   "pygments_lexer": "ipython3",
   "version": "3.10.9"
  }
 },
 "nbformat": 4,
 "nbformat_minor": 5
}
